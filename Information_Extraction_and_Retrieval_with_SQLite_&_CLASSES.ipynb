{
  "nbformat": 4,
  "nbformat_minor": 0,
  "metadata": {
    "colab": {
      "provenance": [],
      "authorship_tag": "ABX9TyNem9TOS0Arly0tu5HTt77N",
      "include_colab_link": true
    },
    "kernelspec": {
      "name": "python3",
      "display_name": "Python 3"
    },
    "language_info": {
      "name": "python"
    }
  },
  "cells": [
    {
      "cell_type": "markdown",
      "metadata": {
        "id": "view-in-github",
        "colab_type": "text"
      },
      "source": [
        "<a href=\"https://colab.research.google.com/github/Elshamysamira/Information-Extraction-and-Retrieval/blob/nasti/Information_Extraction_and_Retrieval_with_SQLite_%26_CLASSES.ipynb\" target=\"_parent\"><img src=\"https://colab.research.google.com/assets/colab-badge.svg\" alt=\"Open In Colab\"/></a>"
      ]
    },
    {
      "cell_type": "markdown",
      "source": [
        "# **Version with SQLite and Classes**"
      ],
      "metadata": {
        "id": "-kZ2kjE48rih"
      }
    },
    {
      "cell_type": "code",
      "source": [
        "!pip install nltk\n",
        "!pip install chardet\n",
        "import nltk\n",
        "import chardet\n",
        "nltk.download('punkt')  # This downloads necessary datasets for tokenization\n",
        "\n",
        "from nltk.tokenize import word_tokenize\n",
        "from collections import defaultdict\n",
        "\n",
        "from pathlib import Path\n",
        "import os\n",
        "import sqlite3"
      ],
      "metadata": {
        "colab": {
          "base_uri": "https://localhost:8080/"
        },
        "id": "nAD9_lAC4TM3",
        "outputId": "b1361d50-a3cf-4d32-c944-5e0b7fa8efef"
      },
      "execution_count": null,
      "outputs": [
        {
          "output_type": "stream",
          "name": "stdout",
          "text": [
            "Requirement already satisfied: nltk in /usr/local/lib/python3.10/dist-packages (3.8.1)\n",
            "Requirement already satisfied: click in /usr/local/lib/python3.10/dist-packages (from nltk) (8.1.7)\n",
            "Requirement already satisfied: joblib in /usr/local/lib/python3.10/dist-packages (from nltk) (1.4.0)\n",
            "Requirement already satisfied: regex>=2021.8.3 in /usr/local/lib/python3.10/dist-packages (from nltk) (2023.12.25)\n",
            "Requirement already satisfied: tqdm in /usr/local/lib/python3.10/dist-packages (from nltk) (4.66.2)\n",
            "Requirement already satisfied: chardet in /usr/local/lib/python3.10/dist-packages (5.2.0)\n"
          ]
        },
        {
          "output_type": "stream",
          "name": "stderr",
          "text": [
            "[nltk_data] Downloading package punkt to /root/nltk_data...\n",
            "[nltk_data]   Package punkt is already up-to-date!\n"
          ]
        }
      ]
    },
    {
      "cell_type": "code",
      "source": [
        "from pathlib import Path\n",
        "import os\n",
        "from google.colab import drive\n",
        "drive.mount('/content/drive/')"
      ],
      "metadata": {
        "colab": {
          "base_uri": "https://localhost:8080/"
        },
        "id": "KEFhNtX24btr",
        "outputId": "634495cf-4866-434a-8018-7e42d442dec0"
      },
      "execution_count": null,
      "outputs": [
        {
          "output_type": "stream",
          "name": "stdout",
          "text": [
            "Drive already mounted at /content/drive/; to attempt to forcibly remount, call drive.mount(\"/content/drive/\", force_remount=True).\n"
          ]
        }
      ]
    },
    {
      "cell_type": "code",
      "source": [
        "class InvertedIndex:\n",
        "    def __init__(self, db_path):\n",
        "        self.db_path = db_path\n",
        "        self.conn = sqlite3.connect(self.db_path)\n",
        "        self.cursor = self.conn.cursor() # cursor is used to execute SQL commands and navigate through the database records.\n",
        "        self.create_table()\n",
        "\n",
        "    def create_table(self):\n",
        "        self.cursor.execute(\"CREATE TABLE IF NOT EXISTS inverted_index (\n",
        "                                word TEXT PRIMARY KEY,\n",
        "                                document_ids TEXT\n",
        "                            )\")\n",
        "\n",
        "    def save_index(self, inverted_index):   # takes an inverted index as input and saves it to the database\n",
        "        for word, document_ids in inverted_index.items(): # This line iterates over the items (key-value pairs) in the inverted_index dictionary\n",
        "            doc_ids_str = ' '.join(str(doc_id) for doc_id in document_ids)  ## This line converts the set of document IDs associated with a word into a space-separated string (doc_ids_str).\n",
        "            self.cursor.execute(\"INSERT INTO inverted_index (word, document_ids) VALUES (?, ?)\", (word, doc_ids_str))\n",
        "        self.conn.commit()\n",
        "\n",
        "    def close_connection(self):\n",
        "        self.conn.close()"
      ],
      "metadata": {
        "id": "WosMhu9e4fqP"
      },
      "execution_count": null,
      "outputs": []
    },
    {
      "cell_type": "code",
      "source": [
        "\n",
        "class DocumentTokenizer:\n",
        "    def __init__(self, documents):\n",
        "        self.documents = documents\n",
        "\n",
        "    def tokenize(self):\n",
        "        tokenized_docs = {}\n",
        "        for documentID, document_path in enumerate(self.documents):\n",
        "            try:\n",
        "                with open(document_path, 'r', encoding='utf-8', errors='ignore') as file:\n",
        "                    document_content = file.read()\n",
        "\n",
        "                tokens = word_tokenize(document_content)\n",
        "                tokenized_docs[documentID] = tokens\n",
        "\n",
        "            except Exception as e:\n",
        "                print(f\"Error processing document {document_path}: {e}\")\n",
        "\n",
        "        return tokenized_docs\n"
      ],
      "metadata": {
        "id": "f2iCHrAD4lKC"
      },
      "execution_count": null,
      "outputs": []
    },
    {
      "cell_type": "code",
      "source": [
        "class InvertedIndexBuilder:\n",
        "    def __init__(self, documents):\n",
        "        self.documents = documents\n",
        "        self.inverted_index = defaultdict(set)\n",
        "\n",
        "    def build_index(self):\n",
        "        for documentID, document_path in enumerate(self.documents):\n",
        "            try:\n",
        "                with open(document_path, 'r', encoding='utf-8', errors='ignore') as file:\n",
        "                    document_content = file.read()\n",
        "\n",
        "                for word in document_content.lower().split():\n",
        "                    self.inverted_index[word].add(documentID)\n",
        "\n",
        "            except Exception as e:\n",
        "                print(f\"Error processing document {document_path}: {e}\")\n",
        "\n",
        "    def get_index(self):\n",
        "        return self.inverted_index"
      ],
      "metadata": {
        "id": "JrO4ALSw4our"
      },
      "execution_count": null,
      "outputs": []
    },
    {
      "cell_type": "code",
      "source": [
        "import re\n",
        "\n",
        "class SearchEngine:\n",
        "    def __init__(self, index_db_path, documents_mapping):\n",
        "        self.index_db_path = index_db_path\n",
        "        self.documents_mapping = documents_mapping\n",
        "\n",
        "    def lookup_word(self, word):\n",
        "        conn = sqlite3.connect(self.index_db_path)\n",
        "        cursor = conn.cursor()\n",
        "        cursor.execute(\"SELECT document_ids FROM inverted_index WHERE word=?\", (word,))\n",
        "        result = cursor.fetchone()\n",
        "        conn.close()\n",
        "\n",
        "        if result:\n",
        "            document_ids = set(map(int, result[0].split(',')))\n",
        "            return document_ids\n",
        "        else:\n",
        "            return set()\n",
        "\n",
        "    def preprocess_query(self, query):\n",
        "        # Replace common contractions with their full forms\n",
        "        query = re.sub(r\"can't\", \"cannot\", query, flags=re.IGNORECASE)\n",
        "        query = re.sub(r\"n't\", \" not\", query, flags=re.IGNORECASE)  # Replace \"n't\" with \" not\" (e.g., \"can't\" -> \"cannot\")\n",
        "        # Add more replacements as needed for other contractions\n",
        "\n",
        "        return query\n",
        "\n",
        "    def search(self, query):\n",
        "        # Preprocess the query\n",
        "        query = self.preprocess_query(query)\n",
        "\n",
        "        # Tokenize the query\n",
        "        query_tokens = word_tokenize(query.lower())\n",
        "        print(f\"Tokenized Query: {query_tokens}\")  # Print tokenized query\n",
        "\n",
        "        # Look up each token in the inverted index\n",
        "        document_sets = [self.lookup_word(token) for token in query_tokens]\n",
        "        common_documents = set.intersection(*document_sets) if document_sets else set()\n",
        "\n",
        "        if common_documents:\n",
        "            print(f\"Congratulations! The word(s) '{query}' appear together in the following document ID(s): {common_documents}\")\n",
        "            for doc_id in common_documents:\n",
        "                print(f\"Document ID: {doc_id}, Document Name: {self.documents_mapping.get(doc_id, 'Unknown')}\")\n",
        "        else:\n",
        "            print(f\"I'm sorry, the word(s) '{query}' do not appear together in any document.\")\n"
      ],
      "metadata": {
        "id": "I4Eymjv04tuv"
      },
      "execution_count": null,
      "outputs": []
    },
    {
      "cell_type": "code",
      "source": [
        "\n",
        "class DocumentManager:\n",
        "    def __init__(self, folder_path):\n",
        "        self.folder_path = folder_path\n",
        "\n",
        "    def get_document_paths(self):\n",
        "        return [os.path.join(self.folder_path, file) for file in os.listdir(self.folder_path)]"
      ],
      "metadata": {
        "id": "9-VOdHWg4wab"
      },
      "execution_count": null,
      "outputs": []
    },
    {
      "cell_type": "code",
      "source": [
        "folder_path = '/content/drive/My Drive/Documents'\n",
        "index_db_path = '/content/drive/My Drive/Documents/inverted_index.db'\n",
        "\n",
        "# Initialize DocumentManager\n",
        "doc_manager = DocumentManager(folder_path)\n",
        "document_paths = doc_manager.get_document_paths()"
      ],
      "metadata": {
        "id": "ujnxAyfn78TY"
      },
      "execution_count": null,
      "outputs": []
    },
    {
      "cell_type": "code",
      "source": [
        "# Tokenize documents\n",
        "doc_tokenizer = DocumentTokenizer(document_paths)\n",
        "tokenized_docs = doc_tokenizer.tokenize()"
      ],
      "metadata": {
        "id": "0AO-fxlf8AYG"
      },
      "execution_count": null,
      "outputs": []
    },
    {
      "cell_type": "code",
      "source": [
        "# Save tokenized documents\n",
        "output_directory = '/content/drive/My Drive/Documents/tokenized'\n",
        "if not os.path.exists(output_directory):\n",
        "    os.makedirs(output_directory)\n",
        "\n",
        "for doc_id, tokens in tokenized_docs.items():\n",
        "    output_file_path = os.path.join(output_directory, f\"tokenized_document_{doc_id}.txt\")\n",
        "    with open(output_file_path, 'w', encoding='utf-8') as output_file:\n",
        "        output_file.write(' '.join(tokens))"
      ],
      "metadata": {
        "id": "9usR7FEQ8EFX"
      },
      "execution_count": null,
      "outputs": []
    },
    {
      "cell_type": "code",
      "source": [
        "# Build inverted index\n",
        "index_builder = InvertedIndexBuilder(document_paths)\n",
        "index_builder.build_index()\n",
        "inverted_index = index_builder.get_index()"
      ],
      "metadata": {
        "id": "g9E97mIR8LYS"
      },
      "execution_count": null,
      "outputs": []
    },
    {
      "cell_type": "code",
      "source": [
        "# Save inverted index to SQLite\n",
        "index_db = InvertedIndex(index_db_path)\n",
        "index_db.save_index(inverted_index)\n",
        "index_db.close_connection()"
      ],
      "metadata": {
        "id": "DUvLxLhD8OJw"
      },
      "execution_count": null,
      "outputs": []
    },
    {
      "cell_type": "code",
      "source": [
        "# Document mapping\n",
        "document_mapping = {documentID: Path(document_path).name for documentID, document_path in enumerate(document_paths)}"
      ],
      "metadata": {
        "id": "7gLKEvqJ8RSm"
      },
      "execution_count": null,
      "outputs": []
    },
    {
      "cell_type": "code",
      "source": [
        "# Initialize SearchEngine\n",
        "search_engine = SearchEngine(index_db_path, document_mapping)"
      ],
      "metadata": {
        "id": "EC6XR5oK8VXU"
      },
      "execution_count": null,
      "outputs": []
    },
    {
      "cell_type": "code",
      "execution_count": null,
      "metadata": {
        "colab": {
          "base_uri": "https://localhost:8080/"
        },
        "id": "3UbCwUxC4Elw",
        "outputId": "256b77c2-3596-48b4-f634-79d67443e3ec"
      },
      "outputs": [
        {
          "output_type": "stream",
          "name": "stdout",
          "text": [
            "Tokenized Query: ['hated']\n",
            "Congratulations! The word(s) 'HateD' appear together in the following document ID(s): {1, 4, 13}\n",
            "Document ID: 1, Document Name: Dumbells of Business by Louis Custer Martin Reed.txt\n",
            "Document ID: 4, Document Name: Confessions of a Tradesman by Frank Thomas Bullen.txt\n",
            "Document ID: 13, Document Name: Fifty years in Wall Street by Henry Clews.txt\n",
            "\n",
            "\n",
            "Tokenized Query: ['hated', 'applied']\n",
            "Congratulations! The word(s) 'HateD Applied' appear together in the following document ID(s): {4, 13}\n",
            "Document ID: 4, Document Name: Confessions of a Tradesman by Frank Thomas Bullen.txt\n",
            "Document ID: 13, Document Name: Fifty years in Wall Street by Henry Clews.txt\n",
            "\n",
            "\n",
            "Tokenized Query: ['can', 'not']\n",
            "Congratulations! The word(s) 'cannot' appear together in the following document ID(s): {0, 1, 2, 3, 4, 5, 6, 7, 8, 9, 10, 11, 12, 13, 14, 15, 16, 17, 18}\n",
            "Document ID: 0, Document Name: A thousand ways to make money.txt\n",
            "Document ID: 1, Document Name: Dumbells of Business by Louis Custer Martin Reed.txt\n",
            "Document ID: 2, Document Name: Business Administration- Theory, Practice and Application.txt\n",
            "Document ID: 3, Document Name: Cyclopedia of Commerce, Accountancy, Business Administration, v. 01 (of 10).txt\n",
            "Document ID: 4, Document Name: Confessions of a Tradesman by Frank Thomas Bullen.txt\n",
            "Document ID: 5, Document Name: Fundamentals of Prosperity- What They Are and Whence They Come by Roger Ward Babson.txt\n",
            "Document ID: 6, Document Name: The Knack of Managing by Lewis K. Urquhart and Herbert Watson.txt\n",
            "Document ID: 7, Document Name: Cyclopedia of Commerce, Accountancy, Business Administration, v. 04 (of 10).txt\n",
            "Document ID: 8, Document Name: Creating Capital by Frederick L. Lipman.txt\n",
            "Document ID: 9, Document Name: Twenty Years of Hus'ling by J. P. Johnston.txt\n",
            "Document ID: 10, Document Name: Business Hints for Men and Women by A. R. Calhoun.txt\n",
            "Document ID: 11, Document Name: The Young Man in Business by Edward William Bok.txt\n",
            "Document ID: 12, Document Name: Forging Ahead in Business by Alexander Hamilton Institute.txt\n",
            "Document ID: 13, Document Name: Fifty years in Wall Street by Henry Clews.txt\n",
            "Document ID: 14, Document Name: Cyclopedia of Commerce, Accountancy, Business Administration.txt\n",
            "Document ID: 15, Document Name: Increasing Human Efficiency in Business by Walter Dill Scott.txt\n",
            "Document ID: 16, Document Name: Cyclopedia of Commerce, Accountancy, Business Administration, v. 02 (of 10).txt\n",
            "Document ID: 17, Document Name: Cyclopedia of Commerce, Accountancy, Business Administration, v. 03 (of 10).txt\n",
            "Document ID: 18, Document Name: Up To Date Business by Seymour Eaton.txt\n",
            "\n",
            "\n",
            "Tokenized Query: ['did', 'not']\n",
            "Congratulations! The word(s) 'did not' appear together in the following document ID(s): {0, 1, 2, 3, 4, 5, 6, 7, 8, 9, 10, 11, 12, 13, 14, 15, 16, 17, 18}\n",
            "Document ID: 0, Document Name: A thousand ways to make money.txt\n",
            "Document ID: 1, Document Name: Dumbells of Business by Louis Custer Martin Reed.txt\n",
            "Document ID: 2, Document Name: Business Administration- Theory, Practice and Application.txt\n",
            "Document ID: 3, Document Name: Cyclopedia of Commerce, Accountancy, Business Administration, v. 01 (of 10).txt\n",
            "Document ID: 4, Document Name: Confessions of a Tradesman by Frank Thomas Bullen.txt\n",
            "Document ID: 5, Document Name: Fundamentals of Prosperity- What They Are and Whence They Come by Roger Ward Babson.txt\n",
            "Document ID: 6, Document Name: The Knack of Managing by Lewis K. Urquhart and Herbert Watson.txt\n",
            "Document ID: 7, Document Name: Cyclopedia of Commerce, Accountancy, Business Administration, v. 04 (of 10).txt\n",
            "Document ID: 8, Document Name: Creating Capital by Frederick L. Lipman.txt\n",
            "Document ID: 9, Document Name: Twenty Years of Hus'ling by J. P. Johnston.txt\n",
            "Document ID: 10, Document Name: Business Hints for Men and Women by A. R. Calhoun.txt\n",
            "Document ID: 11, Document Name: The Young Man in Business by Edward William Bok.txt\n",
            "Document ID: 12, Document Name: Forging Ahead in Business by Alexander Hamilton Institute.txt\n",
            "Document ID: 13, Document Name: Fifty years in Wall Street by Henry Clews.txt\n",
            "Document ID: 14, Document Name: Cyclopedia of Commerce, Accountancy, Business Administration.txt\n",
            "Document ID: 15, Document Name: Increasing Human Efficiency in Business by Walter Dill Scott.txt\n",
            "Document ID: 16, Document Name: Cyclopedia of Commerce, Accountancy, Business Administration, v. 02 (of 10).txt\n",
            "Document ID: 17, Document Name: Cyclopedia of Commerce, Accountancy, Business Administration, v. 03 (of 10).txt\n",
            "Document ID: 18, Document Name: Up To Date Business by Seymour Eaton.txt\n",
            "\n",
            "\n",
            "Tokenized Query: ['state-of-the-art']\n",
            "I'm sorry, the word(s) 'state-of-the-art' do not appear together in any document.\n",
            "\n",
            "\n",
            "Tokenized Query: ['elliott-fisher']\n",
            "Congratulations! The word(s) 'Elliott-Fisher' appear together in the following document ID(s): {16, 17, 3, 7, 14}\n",
            "Document ID: 16, Document Name: Cyclopedia of Commerce, Accountancy, Business Administration, v. 02 (of 10).txt\n",
            "Document ID: 17, Document Name: Cyclopedia of Commerce, Accountancy, Business Administration, v. 03 (of 10).txt\n",
            "Document ID: 3, Document Name: Cyclopedia of Commerce, Accountancy, Business Administration, v. 01 (of 10).txt\n",
            "Document ID: 7, Document Name: Cyclopedia of Commerce, Accountancy, Business Administration, v. 04 (of 10).txt\n",
            "Document ID: 14, Document Name: Cyclopedia of Commerce, Accountancy, Business Administration.txt\n",
            "\n",
            "\n",
            "Tokenized Query: ['mr', '.']\n",
            "I'm sorry, the word(s) 'Mr.' do not appear together in any document.\n",
            "\n",
            "\n",
            "Tokenized Query: ['mr']\n",
            "Congratulations! The word(s) 'Mr' appear together in the following document ID(s): {4}\n",
            "Document ID: 4, Document Name: Confessions of a Tradesman by Frank Thomas Bullen.txt\n"
          ]
        }
      ],
      "source": [
        "# Search\n",
        "search_engine.search('HateD')\n",
        "print('\\n')\n",
        "search_engine.search('HateD Applied')\n",
        "print('\\n')\n",
        "search_engine.search(\"Can't\")\n",
        "print('\\n')\n",
        "search_engine.search(\"didn't\")\n",
        "print('\\n')\n",
        "search_engine.search(\"state-of-the-art\")\n",
        "print('\\n')\n",
        "search_engine.search(\"Elliott-Fisher\")\n",
        "print('\\n')\n",
        "search_engine.search(\"Mr.\")\n",
        "print('\\n')\n",
        "search_engine.search(\"Mr\")\n"
      ]
    },
    {
      "cell_type": "markdown",
      "source": [
        "By default, NLTK's word_tokenize function splits contractions like \"Can't\" into two separate tokens: \"ca\" and \"n't\"."
      ],
      "metadata": {
        "id": "UETW-RPJBx0L"
      }
    }
  ]
}