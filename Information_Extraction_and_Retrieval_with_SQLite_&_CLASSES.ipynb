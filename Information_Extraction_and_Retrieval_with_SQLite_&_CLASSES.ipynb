{
  "nbformat": 4,
  "nbformat_minor": 0,
  "metadata": {
    "colab": {
      "provenance": [],
      "gpuType": "T4",
      "authorship_tag": "ABX9TyOkJv1Ombei3fFQfeX2ocMK",
      "include_colab_link": true
    },
    "kernelspec": {
      "name": "python3",
      "display_name": "Python 3"
    },
    "language_info": {
      "name": "python"
    },
    "accelerator": "GPU"
  },
  "cells": [
    {
      "cell_type": "markdown",
      "metadata": {
        "id": "view-in-github",
        "colab_type": "text"
      },
      "source": [
        "<a href=\"https://colab.research.google.com/github/Elshamysamira/Information-Extraction-and-Retrieval/blob/nasti/Information_Extraction_and_Retrieval_with_SQLite_%26_CLASSES.ipynb\" target=\"_parent\"><img src=\"https://colab.research.google.com/assets/colab-badge.svg\" alt=\"Open In Colab\"/></a>"
      ]
    },
    {
      "cell_type": "markdown",
      "source": [
        "# **Version with SQLite and Classes**"
      ],
      "metadata": {
        "id": "-kZ2kjE48rih"
      }
    },
    {
      "cell_type": "code",
      "source": [
        "!pip install nltk\n",
        "!pip install chardet\n",
        "import nltk\n",
        "import chardet\n",
        "nltk.download('punkt')  # This downloads necessary datasets for tokenization\n",
        "\n",
        "from nltk.tokenize import word_tokenize\n",
        "from collections import defaultdict\n",
        "\n",
        "import pandas as pd\n",
        "\n",
        "from pathlib import Path\n",
        "import os\n",
        "import sqlite3"
      ],
      "metadata": {
        "colab": {
          "base_uri": "https://localhost:8080/"
        },
        "id": "nAD9_lAC4TM3",
        "outputId": "e41dc9d5-584d-485b-fa00-4bc6db36b6c9"
      },
      "execution_count": 1,
      "outputs": [
        {
          "output_type": "stream",
          "name": "stdout",
          "text": [
            "Requirement already satisfied: nltk in /usr/local/lib/python3.10/dist-packages (3.8.1)\n",
            "Requirement already satisfied: click in /usr/local/lib/python3.10/dist-packages (from nltk) (8.1.7)\n",
            "Requirement already satisfied: joblib in /usr/local/lib/python3.10/dist-packages (from nltk) (1.4.0)\n",
            "Requirement already satisfied: regex>=2021.8.3 in /usr/local/lib/python3.10/dist-packages (from nltk) (2023.12.25)\n",
            "Requirement already satisfied: tqdm in /usr/local/lib/python3.10/dist-packages (from nltk) (4.66.2)\n",
            "Requirement already satisfied: chardet in /usr/local/lib/python3.10/dist-packages (5.2.0)\n"
          ]
        },
        {
          "output_type": "stream",
          "name": "stderr",
          "text": [
            "[nltk_data] Downloading package punkt to /root/nltk_data...\n",
            "[nltk_data]   Unzipping tokenizers/punkt.zip.\n"
          ]
        }
      ]
    },
    {
      "cell_type": "code",
      "source": [
        "from pathlib import Path\n",
        "import os\n",
        "from google.colab import drive\n",
        "drive.mount('/content/drive/')"
      ],
      "metadata": {
        "colab": {
          "base_uri": "https://localhost:8080/"
        },
        "id": "KEFhNtX24btr",
        "outputId": "158d9944-9977-4e58-8e76-94f53a2cd1f3"
      },
      "execution_count": 2,
      "outputs": [
        {
          "output_type": "stream",
          "name": "stdout",
          "text": [
            "Mounted at /content/drive/\n"
          ]
        }
      ]
    },
    {
      "cell_type": "code",
      "source": [
        "class InvertedIndex:\n",
        "    def __init__(self, db_path):\n",
        "        self.db_path = db_path\n",
        "        self.conn = sqlite3.connect(self.db_path)\n",
        "        self.cursor = self.conn.cursor()\n",
        "        self.create_table()\n",
        "\n",
        "    def create_table(self):\n",
        "        self.cursor.execute('''CREATE TABLE IF NOT EXISTS inverted_index (\n",
        "                                word TEXT PRIMARY KEY,\n",
        "                                document_ids TEXT\n",
        "                            )''')\n",
        "\n",
        "    def save_index(self, inverted_index):\n",
        "        for word, document_ids in inverted_index.items():\n",
        "            doc_ids_str = ','.join(str(doc_id) for doc_id in document_ids)\n",
        "            self.cursor.execute(\"INSERT INTO inverted_index (word, document_ids) VALUES (?, ?)\", (word, doc_ids_str))\n",
        "        self.conn.commit()\n",
        "\n",
        "    def close_connection(self):\n",
        "        self.conn.close()"
      ],
      "metadata": {
        "id": "WosMhu9e4fqP"
      },
      "execution_count": 3,
      "outputs": []
    },
    {
      "cell_type": "code",
      "source": [
        "\n",
        "class DocumentTokenizer:\n",
        "    def __init__(self, documents):\n",
        "        self.documents = documents\n",
        "\n",
        "    def tokenize(self):\n",
        "        tokenized_docs = {}\n",
        "        for documentID, document_path in enumerate(self.documents):\n",
        "            try:\n",
        "                with open(document_path, 'r', encoding='utf-8', errors='ignore') as file:\n",
        "                    document_content = file.read()\n",
        "\n",
        "                tokens = word_tokenize(document_content)\n",
        "                tokenized_docs[documentID] = tokens\n",
        "\n",
        "            except Exception as e:\n",
        "                print(f\"Error processing document {document_path}: {e}\")\n",
        "\n",
        "        return tokenized_docs\n"
      ],
      "metadata": {
        "id": "f2iCHrAD4lKC"
      },
      "execution_count": 4,
      "outputs": []
    },
    {
      "cell_type": "code",
      "source": [
        "class InvertedIndexBuilder:\n",
        "    def __init__(self, documents):\n",
        "        self.documents = documents\n",
        "        self.inverted_index = defaultdict(set)\n",
        "\n",
        "    def build_index(self):\n",
        "        for documentID, document_path in enumerate(self.documents):\n",
        "            try:\n",
        "                with open(document_path, 'r', encoding='utf-8', errors='ignore') as file:\n",
        "                    document_content = file.read()\n",
        "\n",
        "                for word in document_content.lower().split():\n",
        "                    self.inverted_index[word].add(documentID)\n",
        "\n",
        "            except Exception as e:\n",
        "                print(f\"Error processing document {document_path}: {e}\")\n",
        "\n",
        "    def get_index(self):\n",
        "        return self.inverted_index"
      ],
      "metadata": {
        "id": "JrO4ALSw4our"
      },
      "execution_count": 5,
      "outputs": []
    },
    {
      "cell_type": "code",
      "source": [
        "import re\n",
        "\n",
        "class SearchEngine:\n",
        "    def __init__(self, index_db_path, documents_mapping):\n",
        "        self.index_db_path = index_db_path\n",
        "        self.documents_mapping = documents_mapping\n",
        "\n",
        "    def lookup_word(self, word):\n",
        "        conn = sqlite3.connect(self.index_db_path)\n",
        "        cursor = conn.cursor()\n",
        "        cursor.execute(\"SELECT document_ids FROM inverted_index WHERE word=?\", (word,))\n",
        "        result = cursor.fetchone()\n",
        "        conn.close()\n",
        "\n",
        "        if result:\n",
        "            document_ids = set(map(int, result[0].split(',')))\n",
        "            return document_ids\n",
        "        else:\n",
        "            return set()\n",
        "\n",
        "    def preprocess_query(self, query):\n",
        "        # Replace common contractions with their full forms\n",
        "        query = re.sub(r\"can't\", \"cannot\", query, flags=re.IGNORECASE)\n",
        "        query = re.sub(r\"n't\", \" not\", query, flags=re.IGNORECASE)  # Replace \"n't\" with \" not\" (e.g., \"can't\" -> \"cannot\")\n",
        "        # Add more replacements as needed for other contractions\n",
        "\n",
        "        return query\n",
        "\n",
        "    def search(self, query):\n",
        "        # Preprocess the query\n",
        "        query = self.preprocess_query(query)\n",
        "\n",
        "        # Tokenize the query\n",
        "        query_tokens = word_tokenize(query.lower())\n",
        "        print(f\"Tokenized Query: {query_tokens}\")  # Print tokenized query\n",
        "\n",
        "        # Look up each token in the inverted index\n",
        "        document_sets = [self.lookup_word(token) for token in query_tokens]\n",
        "        common_documents = set.intersection(*document_sets) if document_sets else set()\n",
        "\n",
        "        if common_documents:\n",
        "            print(f\"Congratulations! The word(s) '{query}' appear together in the following document ID(s): {common_documents}\")\n",
        "            for doc_id in common_documents:\n",
        "                print(f\"Document ID: {doc_id}, Document Name: {self.documents_mapping.get(doc_id, 'Unknown')}\")\n",
        "        else:\n",
        "            print(f\"I'm sorry, the word(s) '{query}' do not appear together in any document.\")\n"
      ],
      "metadata": {
        "id": "I4Eymjv04tuv"
      },
      "execution_count": 6,
      "outputs": []
    },
    {
      "cell_type": "code",
      "source": [
        "\n",
        "class DocumentManager:\n",
        "    def __init__(self, books_path):\n",
        "        self.books_path = books_path\n",
        "\n",
        "    def get_doc_paths(self):\n",
        "        return [os.path.join(self.books_path, file) for file in os.listdir(self.books_path)]"
      ],
      "metadata": {
        "id": "9-VOdHWg4wab"
      },
      "execution_count": 7,
      "outputs": []
    },
    {
      "cell_type": "code",
      "source": [
        "books_path = '/content/drive/My Drive/Documents'\n",
        "index_db_path = '/content/drive/My Drive/Documents/inverted_index.db'\n",
        "\n",
        "# Initialize DocumentManager\n",
        "doc_manager = DocumentManager(books_path)     # returns a list of paths to all the docs within the dir\n",
        "doc_paths = doc_manager.get_doc_paths()"
      ],
      "metadata": {
        "id": "ujnxAyfn78TY"
      },
      "execution_count": 8,
      "outputs": []
    },
    {
      "cell_type": "code",
      "source": [
        "# Tokenize documents\n",
        "doc_tokenizer = DocumentTokenizer(doc_paths)  # initialize the DocumentTokenizer object, which is responsible for tokenizing the documents\n",
        "tokenized_docs = doc_tokenizer.tokenize()     # tokenizes each document and returns a dictionary where the keys are document IDs and the values are lists of tokens"
      ],
      "metadata": {
        "id": "0AO-fxlf8AYG"
      },
      "execution_count": 9,
      "outputs": []
    },
    {
      "cell_type": "code",
      "source": [
        "# Save tokenized documents\n",
        "output_dir = '/content/drive/My Drive/Documents/tokenized'\n",
        "if not os.path.exists(output_dir):\n",
        "    os.makedirs(output_dir)\n",
        "\n",
        "\n",
        "for doc_id, tokens in tokenized_docs.items():\n",
        "    output_file_path = os.path.join(output_dir, f\"tokenized_document_{doc_id}.txt\")\n",
        "    with open(output_file_path, 'w', encoding='utf-8') as output_file:\n",
        "        output_file.write(' '.join(tokens))"
      ],
      "metadata": {
        "id": "9usR7FEQ8EFX"
      },
      "execution_count": 10,
      "outputs": []
    },
    {
      "cell_type": "code",
      "source": [
        "# Build inverted index\n",
        "index_builder = InvertedIndexBuilder(doc_paths)\n",
        "index_builder.build_index()\n",
        "inverted_index = index_builder.get_index()"
      ],
      "metadata": {
        "id": "g9E97mIR8LYS"
      },
      "execution_count": 11,
      "outputs": []
    },
    {
      "cell_type": "code",
      "source": [
        "# Save inverted index to SQLite\n",
        "index_db = InvertedIndex(index_db_path)\n",
        "index_db.save_index(inverted_index)\n",
        "index_db.close_connection()"
      ],
      "metadata": {
        "id": "DUvLxLhD8OJw"
      },
      "execution_count": 12,
      "outputs": []
    },
    {
      "cell_type": "code",
      "source": [
        "# Document mapping\n",
        "document_mapping = {documentID: Path(document_path).name for documentID, document_path in enumerate(doc_paths)}"
      ],
      "metadata": {
        "id": "7gLKEvqJ8RSm"
      },
      "execution_count": 13,
      "outputs": []
    },
    {
      "cell_type": "code",
      "source": [
        "# Initialize SearchEngine\n",
        "search_engine = SearchEngine(index_db_path, document_mapping)"
      ],
      "metadata": {
        "id": "EC6XR5oK8VXU"
      },
      "execution_count": 14,
      "outputs": []
    },
    {
      "cell_type": "code",
      "execution_count": 15,
      "metadata": {
        "colab": {
          "base_uri": "https://localhost:8080/"
        },
        "id": "3UbCwUxC4Elw",
        "outputId": "42d00f6d-5c1e-443c-abfa-d3cb7b4530f6"
      },
      "outputs": [
        {
          "output_type": "stream",
          "name": "stdout",
          "text": [
            "Tokenized Query: ['hated']\n",
            "Congratulations! The word(s) 'HateD' appear together in the following document ID(s): {1, 4, 13}\n",
            "Document ID: 1, Document Name: Dumbells of Business by Louis Custer Martin Reed.txt\n",
            "Document ID: 4, Document Name: Confessions of a Tradesman by Frank Thomas Bullen.txt\n",
            "Document ID: 13, Document Name: Fifty years in Wall Street by Henry Clews.txt\n",
            "\n",
            "\n",
            "Tokenized Query: ['hated', 'applied']\n",
            "Congratulations! The word(s) 'HateD Applied' appear together in the following document ID(s): {4, 13}\n",
            "Document ID: 4, Document Name: Confessions of a Tradesman by Frank Thomas Bullen.txt\n",
            "Document ID: 13, Document Name: Fifty years in Wall Street by Henry Clews.txt\n",
            "\n",
            "\n",
            "Tokenized Query: ['can', 'not']\n",
            "Congratulations! The word(s) 'cannot' appear together in the following document ID(s): {0, 1, 2, 3, 4, 5, 6, 7, 8, 9, 10, 11, 12, 13, 14, 15, 16, 17, 18}\n",
            "Document ID: 0, Document Name: A thousand ways to make money.txt\n",
            "Document ID: 1, Document Name: Dumbells of Business by Louis Custer Martin Reed.txt\n",
            "Document ID: 2, Document Name: Business Administration- Theory, Practice and Application.txt\n",
            "Document ID: 3, Document Name: Cyclopedia of Commerce, Accountancy, Business Administration, v. 01 (of 10).txt\n",
            "Document ID: 4, Document Name: Confessions of a Tradesman by Frank Thomas Bullen.txt\n",
            "Document ID: 5, Document Name: Fundamentals of Prosperity- What They Are and Whence They Come by Roger Ward Babson.txt\n",
            "Document ID: 6, Document Name: The Knack of Managing by Lewis K. Urquhart and Herbert Watson.txt\n",
            "Document ID: 7, Document Name: Cyclopedia of Commerce, Accountancy, Business Administration, v. 04 (of 10).txt\n",
            "Document ID: 8, Document Name: Creating Capital by Frederick L. Lipman.txt\n",
            "Document ID: 9, Document Name: Twenty Years of Hus'ling by J. P. Johnston.txt\n",
            "Document ID: 10, Document Name: Business Hints for Men and Women by A. R. Calhoun.txt\n",
            "Document ID: 11, Document Name: The Young Man in Business by Edward William Bok.txt\n",
            "Document ID: 12, Document Name: Forging Ahead in Business by Alexander Hamilton Institute.txt\n",
            "Document ID: 13, Document Name: Fifty years in Wall Street by Henry Clews.txt\n",
            "Document ID: 14, Document Name: Cyclopedia of Commerce, Accountancy, Business Administration.txt\n",
            "Document ID: 15, Document Name: Increasing Human Efficiency in Business by Walter Dill Scott.txt\n",
            "Document ID: 16, Document Name: Cyclopedia of Commerce, Accountancy, Business Administration, v. 02 (of 10).txt\n",
            "Document ID: 17, Document Name: Cyclopedia of Commerce, Accountancy, Business Administration, v. 03 (of 10).txt\n",
            "Document ID: 18, Document Name: Up To Date Business by Seymour Eaton.txt\n",
            "\n",
            "\n",
            "Tokenized Query: ['did', 'not']\n",
            "Congratulations! The word(s) 'did not' appear together in the following document ID(s): {0, 1, 2, 3, 4, 5, 6, 7, 8, 9, 10, 11, 12, 13, 14, 15, 16, 17, 18}\n",
            "Document ID: 0, Document Name: A thousand ways to make money.txt\n",
            "Document ID: 1, Document Name: Dumbells of Business by Louis Custer Martin Reed.txt\n",
            "Document ID: 2, Document Name: Business Administration- Theory, Practice and Application.txt\n",
            "Document ID: 3, Document Name: Cyclopedia of Commerce, Accountancy, Business Administration, v. 01 (of 10).txt\n",
            "Document ID: 4, Document Name: Confessions of a Tradesman by Frank Thomas Bullen.txt\n",
            "Document ID: 5, Document Name: Fundamentals of Prosperity- What They Are and Whence They Come by Roger Ward Babson.txt\n",
            "Document ID: 6, Document Name: The Knack of Managing by Lewis K. Urquhart and Herbert Watson.txt\n",
            "Document ID: 7, Document Name: Cyclopedia of Commerce, Accountancy, Business Administration, v. 04 (of 10).txt\n",
            "Document ID: 8, Document Name: Creating Capital by Frederick L. Lipman.txt\n",
            "Document ID: 9, Document Name: Twenty Years of Hus'ling by J. P. Johnston.txt\n",
            "Document ID: 10, Document Name: Business Hints for Men and Women by A. R. Calhoun.txt\n",
            "Document ID: 11, Document Name: The Young Man in Business by Edward William Bok.txt\n",
            "Document ID: 12, Document Name: Forging Ahead in Business by Alexander Hamilton Institute.txt\n",
            "Document ID: 13, Document Name: Fifty years in Wall Street by Henry Clews.txt\n",
            "Document ID: 14, Document Name: Cyclopedia of Commerce, Accountancy, Business Administration.txt\n",
            "Document ID: 15, Document Name: Increasing Human Efficiency in Business by Walter Dill Scott.txt\n",
            "Document ID: 16, Document Name: Cyclopedia of Commerce, Accountancy, Business Administration, v. 02 (of 10).txt\n",
            "Document ID: 17, Document Name: Cyclopedia of Commerce, Accountancy, Business Administration, v. 03 (of 10).txt\n",
            "Document ID: 18, Document Name: Up To Date Business by Seymour Eaton.txt\n",
            "\n",
            "\n",
            "Tokenized Query: ['state-of-the-art']\n",
            "I'm sorry, the word(s) 'state-of-the-art' do not appear together in any document.\n",
            "\n",
            "\n",
            "Tokenized Query: ['elliott-fisher']\n",
            "Congratulations! The word(s) 'Elliott-Fisher' appear together in the following document ID(s): {16, 17, 3, 7, 14}\n",
            "Document ID: 16, Document Name: Cyclopedia of Commerce, Accountancy, Business Administration, v. 02 (of 10).txt\n",
            "Document ID: 17, Document Name: Cyclopedia of Commerce, Accountancy, Business Administration, v. 03 (of 10).txt\n",
            "Document ID: 3, Document Name: Cyclopedia of Commerce, Accountancy, Business Administration, v. 01 (of 10).txt\n",
            "Document ID: 7, Document Name: Cyclopedia of Commerce, Accountancy, Business Administration, v. 04 (of 10).txt\n",
            "Document ID: 14, Document Name: Cyclopedia of Commerce, Accountancy, Business Administration.txt\n",
            "\n",
            "\n",
            "Tokenized Query: ['mr', '.']\n",
            "I'm sorry, the word(s) 'Mr.' do not appear together in any document.\n",
            "\n",
            "\n",
            "Tokenized Query: ['mr']\n",
            "Congratulations! The word(s) 'Mr' appear together in the following document ID(s): {4}\n",
            "Document ID: 4, Document Name: Confessions of a Tradesman by Frank Thomas Bullen.txt\n"
          ]
        }
      ],
      "source": [
        "# Search\n",
        "search_engine.search('HateD')\n",
        "print('\\n')\n",
        "search_engine.search('HateD Applied')\n",
        "print('\\n')\n",
        "search_engine.search(\"Can't\")\n",
        "print('\\n')\n",
        "search_engine.search(\"didn't\")\n",
        "print('\\n')\n",
        "search_engine.search(\"state-of-the-art\")\n",
        "print('\\n')\n",
        "search_engine.search(\"Elliott-Fisher\")\n",
        "print('\\n')\n",
        "search_engine.search(\"Mr.\")\n",
        "print('\\n')\n",
        "search_engine.search(\"Mr\")\n"
      ]
    },
    {
      "cell_type": "markdown",
      "source": [
        "Otherwise by default, NLTK's word_tokenize function splits contractions like \"Can't\" into two separate tokens: \"ca\" and \"n't\"."
      ],
      "metadata": {
        "id": "UETW-RPJBx0L"
      }
    },
    {
      "cell_type": "markdown",
      "source": [
        "# Now let's check what is inside our db:"
      ],
      "metadata": {
        "id": "lgt_fTaAtHts"
      }
    },
    {
      "cell_type": "code",
      "source": [
        "connect_db = sqlite3.connect(index_db_path)\n",
        "\n",
        "tables = pd.read_sql(\"SELECT name FROM sqlite_master WHERE type='table'\", connect_db)\n",
        "\n",
        "for table in tables['name']:\n",
        "    print(f\"Table Name: {table}\")\n",
        "\n",
        "    query = \"SELECT * FROM inverted_index\"\n",
        "    df = pd.read_sql_query(query, connect_db)\n",
        "\n",
        "    df = pd.read_sql(f\"SELECT * FROM {table}\", connect_db)\n",
        "    display(df)\n",
        "    print('\\n')\n",
        "\n",
        "connect_db.close()\n"
      ],
      "metadata": {
        "id": "Zu4s19MQv_xi",
        "outputId": "42d58b7c-d44c-4046-f154-495b36725233",
        "colab": {
          "base_uri": "https://localhost:8080/",
          "height": 476
        }
      },
      "execution_count": 28,
      "outputs": [
        {
          "output_type": "stream",
          "name": "stdout",
          "text": [
            "Table Name: inverted_index\n"
          ]
        },
        {
          "output_type": "display_data",
          "data": {
            "text/plain": [
              "               word                                    document_ids\n",
              "0               the  0,1,2,3,4,5,6,7,8,9,10,11,12,13,14,15,16,17,18\n",
              "1           project  0,1,2,3,4,5,6,7,8,9,10,11,12,13,14,15,16,17,18\n",
              "2         gutenberg  0,1,2,3,4,5,6,7,8,9,10,11,12,13,14,15,16,17,18\n",
              "3             ebook  0,1,2,3,4,5,6,7,8,9,10,11,12,13,14,15,16,17,18\n",
              "4                of  0,1,2,3,4,5,6,7,8,9,10,11,12,13,14,15,16,17,18\n",
              "...             ...                                             ...\n",
              "78520  bread-stuffs                                              18\n",
              "78521   proportiona                                              18\n",
              "78522           at|                                              18\n",
              "78523         comma                                              18\n",
              "78524       nessary                                              18\n",
              "\n",
              "[78525 rows x 2 columns]"
            ],
            "text/html": [
              "\n",
              "  <div id=\"df-3cb2877a-2ed6-44c7-90dd-e333392be23b\" class=\"colab-df-container\">\n",
              "    <div>\n",
              "<style scoped>\n",
              "    .dataframe tbody tr th:only-of-type {\n",
              "        vertical-align: middle;\n",
              "    }\n",
              "\n",
              "    .dataframe tbody tr th {\n",
              "        vertical-align: top;\n",
              "    }\n",
              "\n",
              "    .dataframe thead th {\n",
              "        text-align: right;\n",
              "    }\n",
              "</style>\n",
              "<table border=\"1\" class=\"dataframe\">\n",
              "  <thead>\n",
              "    <tr style=\"text-align: right;\">\n",
              "      <th></th>\n",
              "      <th>word</th>\n",
              "      <th>document_ids</th>\n",
              "    </tr>\n",
              "  </thead>\n",
              "  <tbody>\n",
              "    <tr>\n",
              "      <th>0</th>\n",
              "      <td>the</td>\n",
              "      <td>0,1,2,3,4,5,6,7,8,9,10,11,12,13,14,15,16,17,18</td>\n",
              "    </tr>\n",
              "    <tr>\n",
              "      <th>1</th>\n",
              "      <td>project</td>\n",
              "      <td>0,1,2,3,4,5,6,7,8,9,10,11,12,13,14,15,16,17,18</td>\n",
              "    </tr>\n",
              "    <tr>\n",
              "      <th>2</th>\n",
              "      <td>gutenberg</td>\n",
              "      <td>0,1,2,3,4,5,6,7,8,9,10,11,12,13,14,15,16,17,18</td>\n",
              "    </tr>\n",
              "    <tr>\n",
              "      <th>3</th>\n",
              "      <td>ebook</td>\n",
              "      <td>0,1,2,3,4,5,6,7,8,9,10,11,12,13,14,15,16,17,18</td>\n",
              "    </tr>\n",
              "    <tr>\n",
              "      <th>4</th>\n",
              "      <td>of</td>\n",
              "      <td>0,1,2,3,4,5,6,7,8,9,10,11,12,13,14,15,16,17,18</td>\n",
              "    </tr>\n",
              "    <tr>\n",
              "      <th>...</th>\n",
              "      <td>...</td>\n",
              "      <td>...</td>\n",
              "    </tr>\n",
              "    <tr>\n",
              "      <th>78520</th>\n",
              "      <td>bread-stuffs</td>\n",
              "      <td>18</td>\n",
              "    </tr>\n",
              "    <tr>\n",
              "      <th>78521</th>\n",
              "      <td>proportiona</td>\n",
              "      <td>18</td>\n",
              "    </tr>\n",
              "    <tr>\n",
              "      <th>78522</th>\n",
              "      <td>at|</td>\n",
              "      <td>18</td>\n",
              "    </tr>\n",
              "    <tr>\n",
              "      <th>78523</th>\n",
              "      <td>comma</td>\n",
              "      <td>18</td>\n",
              "    </tr>\n",
              "    <tr>\n",
              "      <th>78524</th>\n",
              "      <td>nessary</td>\n",
              "      <td>18</td>\n",
              "    </tr>\n",
              "  </tbody>\n",
              "</table>\n",
              "<p>78525 rows × 2 columns</p>\n",
              "</div>\n",
              "    <div class=\"colab-df-buttons\">\n",
              "\n",
              "  <div class=\"colab-df-container\">\n",
              "    <button class=\"colab-df-convert\" onclick=\"convertToInteractive('df-3cb2877a-2ed6-44c7-90dd-e333392be23b')\"\n",
              "            title=\"Convert this dataframe to an interactive table.\"\n",
              "            style=\"display:none;\">\n",
              "\n",
              "  <svg xmlns=\"http://www.w3.org/2000/svg\" height=\"24px\" viewBox=\"0 -960 960 960\">\n",
              "    <path d=\"M120-120v-720h720v720H120Zm60-500h600v-160H180v160Zm220 220h160v-160H400v160Zm0 220h160v-160H400v160ZM180-400h160v-160H180v160Zm440 0h160v-160H620v160ZM180-180h160v-160H180v160Zm440 0h160v-160H620v160Z\"/>\n",
              "  </svg>\n",
              "    </button>\n",
              "\n",
              "  <style>\n",
              "    .colab-df-container {\n",
              "      display:flex;\n",
              "      gap: 12px;\n",
              "    }\n",
              "\n",
              "    .colab-df-convert {\n",
              "      background-color: #E8F0FE;\n",
              "      border: none;\n",
              "      border-radius: 50%;\n",
              "      cursor: pointer;\n",
              "      display: none;\n",
              "      fill: #1967D2;\n",
              "      height: 32px;\n",
              "      padding: 0 0 0 0;\n",
              "      width: 32px;\n",
              "    }\n",
              "\n",
              "    .colab-df-convert:hover {\n",
              "      background-color: #E2EBFA;\n",
              "      box-shadow: 0px 1px 2px rgba(60, 64, 67, 0.3), 0px 1px 3px 1px rgba(60, 64, 67, 0.15);\n",
              "      fill: #174EA6;\n",
              "    }\n",
              "\n",
              "    .colab-df-buttons div {\n",
              "      margin-bottom: 4px;\n",
              "    }\n",
              "\n",
              "    [theme=dark] .colab-df-convert {\n",
              "      background-color: #3B4455;\n",
              "      fill: #D2E3FC;\n",
              "    }\n",
              "\n",
              "    [theme=dark] .colab-df-convert:hover {\n",
              "      background-color: #434B5C;\n",
              "      box-shadow: 0px 1px 3px 1px rgba(0, 0, 0, 0.15);\n",
              "      filter: drop-shadow(0px 1px 2px rgba(0, 0, 0, 0.3));\n",
              "      fill: #FFFFFF;\n",
              "    }\n",
              "  </style>\n",
              "\n",
              "    <script>\n",
              "      const buttonEl =\n",
              "        document.querySelector('#df-3cb2877a-2ed6-44c7-90dd-e333392be23b button.colab-df-convert');\n",
              "      buttonEl.style.display =\n",
              "        google.colab.kernel.accessAllowed ? 'block' : 'none';\n",
              "\n",
              "      async function convertToInteractive(key) {\n",
              "        const element = document.querySelector('#df-3cb2877a-2ed6-44c7-90dd-e333392be23b');\n",
              "        const dataTable =\n",
              "          await google.colab.kernel.invokeFunction('convertToInteractive',\n",
              "                                                    [key], {});\n",
              "        if (!dataTable) return;\n",
              "\n",
              "        const docLinkHtml = 'Like what you see? Visit the ' +\n",
              "          '<a target=\"_blank\" href=https://colab.research.google.com/notebooks/data_table.ipynb>data table notebook</a>'\n",
              "          + ' to learn more about interactive tables.';\n",
              "        element.innerHTML = '';\n",
              "        dataTable['output_type'] = 'display_data';\n",
              "        await google.colab.output.renderOutput(dataTable, element);\n",
              "        const docLink = document.createElement('div');\n",
              "        docLink.innerHTML = docLinkHtml;\n",
              "        element.appendChild(docLink);\n",
              "      }\n",
              "    </script>\n",
              "  </div>\n",
              "\n",
              "\n",
              "<div id=\"df-0b7ddc2a-a43c-427d-86b4-c167cde9434d\">\n",
              "  <button class=\"colab-df-quickchart\" onclick=\"quickchart('df-0b7ddc2a-a43c-427d-86b4-c167cde9434d')\"\n",
              "            title=\"Suggest charts\"\n",
              "            style=\"display:none;\">\n",
              "\n",
              "<svg xmlns=\"http://www.w3.org/2000/svg\" height=\"24px\"viewBox=\"0 0 24 24\"\n",
              "     width=\"24px\">\n",
              "    <g>\n",
              "        <path d=\"M19 3H5c-1.1 0-2 .9-2 2v14c0 1.1.9 2 2 2h14c1.1 0 2-.9 2-2V5c0-1.1-.9-2-2-2zM9 17H7v-7h2v7zm4 0h-2V7h2v10zm4 0h-2v-4h2v4z\"/>\n",
              "    </g>\n",
              "</svg>\n",
              "  </button>\n",
              "\n",
              "<style>\n",
              "  .colab-df-quickchart {\n",
              "      --bg-color: #E8F0FE;\n",
              "      --fill-color: #1967D2;\n",
              "      --hover-bg-color: #E2EBFA;\n",
              "      --hover-fill-color: #174EA6;\n",
              "      --disabled-fill-color: #AAA;\n",
              "      --disabled-bg-color: #DDD;\n",
              "  }\n",
              "\n",
              "  [theme=dark] .colab-df-quickchart {\n",
              "      --bg-color: #3B4455;\n",
              "      --fill-color: #D2E3FC;\n",
              "      --hover-bg-color: #434B5C;\n",
              "      --hover-fill-color: #FFFFFF;\n",
              "      --disabled-bg-color: #3B4455;\n",
              "      --disabled-fill-color: #666;\n",
              "  }\n",
              "\n",
              "  .colab-df-quickchart {\n",
              "    background-color: var(--bg-color);\n",
              "    border: none;\n",
              "    border-radius: 50%;\n",
              "    cursor: pointer;\n",
              "    display: none;\n",
              "    fill: var(--fill-color);\n",
              "    height: 32px;\n",
              "    padding: 0;\n",
              "    width: 32px;\n",
              "  }\n",
              "\n",
              "  .colab-df-quickchart:hover {\n",
              "    background-color: var(--hover-bg-color);\n",
              "    box-shadow: 0 1px 2px rgba(60, 64, 67, 0.3), 0 1px 3px 1px rgba(60, 64, 67, 0.15);\n",
              "    fill: var(--button-hover-fill-color);\n",
              "  }\n",
              "\n",
              "  .colab-df-quickchart-complete:disabled,\n",
              "  .colab-df-quickchart-complete:disabled:hover {\n",
              "    background-color: var(--disabled-bg-color);\n",
              "    fill: var(--disabled-fill-color);\n",
              "    box-shadow: none;\n",
              "  }\n",
              "\n",
              "  .colab-df-spinner {\n",
              "    border: 2px solid var(--fill-color);\n",
              "    border-color: transparent;\n",
              "    border-bottom-color: var(--fill-color);\n",
              "    animation:\n",
              "      spin 1s steps(1) infinite;\n",
              "  }\n",
              "\n",
              "  @keyframes spin {\n",
              "    0% {\n",
              "      border-color: transparent;\n",
              "      border-bottom-color: var(--fill-color);\n",
              "      border-left-color: var(--fill-color);\n",
              "    }\n",
              "    20% {\n",
              "      border-color: transparent;\n",
              "      border-left-color: var(--fill-color);\n",
              "      border-top-color: var(--fill-color);\n",
              "    }\n",
              "    30% {\n",
              "      border-color: transparent;\n",
              "      border-left-color: var(--fill-color);\n",
              "      border-top-color: var(--fill-color);\n",
              "      border-right-color: var(--fill-color);\n",
              "    }\n",
              "    40% {\n",
              "      border-color: transparent;\n",
              "      border-right-color: var(--fill-color);\n",
              "      border-top-color: var(--fill-color);\n",
              "    }\n",
              "    60% {\n",
              "      border-color: transparent;\n",
              "      border-right-color: var(--fill-color);\n",
              "    }\n",
              "    80% {\n",
              "      border-color: transparent;\n",
              "      border-right-color: var(--fill-color);\n",
              "      border-bottom-color: var(--fill-color);\n",
              "    }\n",
              "    90% {\n",
              "      border-color: transparent;\n",
              "      border-bottom-color: var(--fill-color);\n",
              "    }\n",
              "  }\n",
              "</style>\n",
              "\n",
              "  <script>\n",
              "    async function quickchart(key) {\n",
              "      const quickchartButtonEl =\n",
              "        document.querySelector('#' + key + ' button');\n",
              "      quickchartButtonEl.disabled = true;  // To prevent multiple clicks.\n",
              "      quickchartButtonEl.classList.add('colab-df-spinner');\n",
              "      try {\n",
              "        const charts = await google.colab.kernel.invokeFunction(\n",
              "            'suggestCharts', [key], {});\n",
              "      } catch (error) {\n",
              "        console.error('Error during call to suggestCharts:', error);\n",
              "      }\n",
              "      quickchartButtonEl.classList.remove('colab-df-spinner');\n",
              "      quickchartButtonEl.classList.add('colab-df-quickchart-complete');\n",
              "    }\n",
              "    (() => {\n",
              "      let quickchartButtonEl =\n",
              "        document.querySelector('#df-0b7ddc2a-a43c-427d-86b4-c167cde9434d button');\n",
              "      quickchartButtonEl.style.display =\n",
              "        google.colab.kernel.accessAllowed ? 'block' : 'none';\n",
              "    })();\n",
              "  </script>\n",
              "</div>\n",
              "    </div>\n",
              "  </div>\n"
            ],
            "application/vnd.google.colaboratory.intrinsic+json": {
              "type": "dataframe",
              "variable_name": "df",
              "summary": "{\n  \"name\": \"df\",\n  \"rows\": 78525,\n  \"fields\": [\n    {\n      \"column\": \"word\",\n      \"properties\": {\n        \"dtype\": \"string\",\n        \"num_unique_values\": 78525,\n        \"samples\": [\n          \"rheumatism,\",\n          \"rakings,\",\n          \"creations.\"\n        ],\n        \"semantic_type\": \"\",\n        \"description\": \"\"\n      }\n    },\n    {\n      \"column\": \"document_ids\",\n      \"properties\": {\n        \"dtype\": \"category\",\n        \"num_unique_values\": 8377,\n        \"samples\": [\n          \"1,2,3,6,7,8,9,10,11,13,14,15,16,17,18\",\n          \"9,12,17,15\",\n          \"0,2,4,8,18\"\n        ],\n        \"semantic_type\": \"\",\n        \"description\": \"\"\n      }\n    }\n  ]\n}"
            }
          },
          "metadata": {}
        },
        {
          "output_type": "stream",
          "name": "stdout",
          "text": [
            "\n",
            "\n"
          ]
        }
      ]
    }
  ]
}